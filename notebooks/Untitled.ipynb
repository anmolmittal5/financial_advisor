{
 "cells": [
  {
   "cell_type": "code",
   "execution_count": null,
   "id": "b24fea2e-2dc7-400d-914b-292a1e3234a8",
   "metadata": {},
   "outputs": [],
   "source": [
    "from langchain.llms import HuggingFacePipeline\n",
    "from transformers import AutoTokenizer\n",
    "from langchain.chains import ConversationChain\n",
    "import transformers\n",
    "import torch\n",
    "import warnings\n",
    "warnings.filterwarnings('ignore')"
   ]
  },
  {
   "cell_type": "code",
   "execution_count": null,
   "id": "3afd35d6-b6d9-43a9-9963-c90b3711b578",
   "metadata": {},
   "outputs": [],
   "source": [
    "model=\"meta-llama/Llama-2-7b-chat-hf\"\n",
    "tokenizer=AutoTokenizer.from_pretrained(model)\n",
    "pipeline=transformers.pipeline(\n",
    "    \"text-generation\",\n",
    "    model=model,\n",
    "    tokenizer=tokenizer,\n",
    "    torch_dtype=torch.bfloat16,\n",
    "    trust_remote_code=True,\n",
    "    device_map=\"auto\",\n",
    "    max_length=1000,\n",
    "    do_sample=True,\n",
    "    top_k=10,\n",
    "    num_return_sequences=1,\n",
    "    eos_token_id=tokenizer.eos_token_id\n",
    "    )\n",
    "\n",
    "llm=HuggingFacePipeline(pipeline=pipeline, model_kwargs={'temperature':0.7})"
   ]
  },
  {
   "cell_type": "code",
   "execution_count": null,
   "id": "c63fff1e-fd52-46ee-af4c-83068a9971b8",
   "metadata": {},
   "outputs": [],
   "source": [
    "prompt_template = \"\"\"<s>[INST] <<SYS>>\n",
    "{{ You are a helpful AI Assistant}}<<SYS>>\n",
    "###\n",
    "\n",
    "Previous Conversation:\n",
    "'''\n",
    "{history}\n",
    "'''\n",
    "\n",
    "{{{input}}}[/INST]\n",
    "\n",
    "\"\"\"\n",
    "prompt = PromptTemplate(template=prompt_template, input_variables=['input', 'history'])"
   ]
  },
  {
   "cell_type": "code",
   "execution_count": null,
   "id": "cc39397f-93be-43ad-b237-929f34ea362c",
   "metadata": {},
   "outputs": [],
   "source": [
    "chain = ConversationChain(llm=llm, prompt=prompt)"
   ]
  },
  {
   "cell_type": "code",
   "execution_count": null,
   "id": "bab01fa8-e9b4-4432-a5d1-9c159e7a855d",
   "metadata": {},
   "outputs": [],
   "source": [
    "chain.run(\"What is the capital Of India?\")"
   ]
  }
 ],
 "metadata": {
  "kernelspec": {
   "display_name": "Python 3 (ipykernel)",
   "language": "python",
   "name": "python3"
  },
  "language_info": {
   "codemirror_mode": {
    "name": "ipython",
    "version": 3
   },
   "file_extension": ".py",
   "mimetype": "text/x-python",
   "name": "python",
   "nbconvert_exporter": "python",
   "pygments_lexer": "ipython3",
   "version": "3.8.18"
  }
 },
 "nbformat": 4,
 "nbformat_minor": 5
}
